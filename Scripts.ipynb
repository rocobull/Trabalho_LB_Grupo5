{
 "cells": [
  {
   "cell_type": "markdown",
   "id": "f7e33568",
   "metadata": {},
   "source": [
    "# *Streptococcus pneumoniae* R6"
   ]
  },
  {
   "cell_type": "markdown",
   "id": "578eae01",
   "metadata": {},
   "source": [
    "### NCBI (*pbp1a*, *pbp2b* e *pbp2x*)"
   ]
  },
  {
   "cell_type": "markdown",
   "id": "d108eaad",
   "metadata": {},
   "source": [
    "Escolheu-se a estirpe R6 de Streptococcus pneumoniae uma vez que é um genoma de referência utilizado por investigadores e mencionados nos seus artigos.\n",
    "Para proceder à análise dos genes de interesse (*pbp1a*, *pbp2b* e *pbp2x*) nesta estirpe, foi primeiro necessário procurar o seu respetivo identificador (que se descobriu ser **AE007317.1**). Desta forma, estamos em condições para analisar os genes de interesse.<br><br>\n",
    "\n",
    "Começamos por extrair:\n",
    "- Alguma informação geral da estirpe R6\n",
    "- A localização dos respetivos genes do seu genoma\n",
    "- As sequências dos genes\n",
    "- Os identificadores das respetivas proteínas\n",
    "- As respetivas sequências proteicas"
   ]
  },
  {
   "cell_type": "code",
   "execution_count": 3,
   "id": "24127bb4",
   "metadata": {
    "scrolled": true
   },
   "outputs": [
    {
     "name": "stdout",
     "output_type": "stream",
     "text": [
      "Título: Streptococcus pneumoniae R6, complete genome\n",
      "ID GenBank (e outros IDs): ['AE007317', 'AE008385-AE008568']\n",
      "Taxonomia: ['Bacteria', 'Firmicutes', 'Bacilli', 'Lactobacillales', 'Streptococcaceae', 'Streptococcus']\n",
      "Tipo de molécula: DNA\n",
      "Topologia: circular\n",
      "Referências externas: ['BioProject:PRJNA278', 'BioSample:SAMN02603218']\n",
      "\n",
      "Gene: pbpX\n",
      "Produto: ['Penicillin-binding protein 2X']\n",
      "\n",
      "Gene: pbpA\n",
      "Produto: ['Penicillin-binding protein 1A']\n",
      "\n",
      "Gene: pbp2b\n",
      "Produto: ['Penicillin-binding protein 2B']\n",
      "\n"
     ]
    }
   ],
   "source": [
    "from Bio import Entrez\n",
    "from Bio import SeqIO\n",
    "\n",
    "genes_int = [\"pbpX\",\"pbpA\",\"pbp2b\"]\n",
    "local = {}\n",
    "gene_seq = {}\n",
    "prot_id = {}\n",
    "prot = {}\n",
    "\n",
    "Entrez.email = \"pg45474@alunos.uminho.pt\"\n",
    "handle = Entrez.efetch(db=\"nucleotide\", rettype=\"gb\", retmode=\"text\", id=\"AE007317.1\")\n",
    "seq_record = SeqIO.read(handle, \"genbank\")\n",
    "\n",
    "################################\n",
    "print(\"Título:\",seq_record.description)\n",
    "print(\"ID GenBank (e outros IDs):\",seq_record.annotations[\"accessions\"])\n",
    "print(\"Taxonomia:\",seq_record.annotations[\"taxonomy\"])\n",
    "print(\"Tipo de molécula:\",seq_record.annotations[\"molecule_type\"])\n",
    "print(\"Topologia:\",seq_record.annotations[\"topology\"])\n",
    "print(\"Referências externas:\",seq_record.dbxrefs)\n",
    "print()\n",
    "################################\n",
    "\n",
    "for s in seq_record.features:\n",
    "    if s.type == \"CDS\":\n",
    "        qual = dict(s.qualifiers)\n",
    "        \n",
    "        if \"gene\" in qual:\n",
    "            if qual[\"gene\"][0] in genes_int:\n",
    "                loc = s.location\n",
    "                #########################\n",
    "                print(\"Gene:\",qual[\"gene\"][0])\n",
    "                print(\"Produto:\", qual[\"product\"])\n",
    "                print()\n",
    "                #########################\n",
    "                local[qual[\"gene\"][0]] = (int(loc.start), int(loc.end), loc.strand)\n",
    "                gene_seq[qual[\"gene\"][0]] = s.extract(seq_record.seq)\n",
    "                prot_id[qual[\"gene\"][0]] = qual[\"protein_id\"]\n",
    "                prot[qual[\"gene\"][0]] = qual[\"translation\"]\n",
    "\n",
    "handle.close()"
   ]
  },
  {
   "cell_type": "markdown",
   "id": "5fd5aa6b",
   "metadata": {},
   "source": [
    "Já temos os dados principais para começar o estudo dos nossos genes. Para facilitar a análise, vamos guardar os dados em 6 ficheiros FASTA (3 contendo as sequências dos 3 genes, e 3 contendo as sequências das proteínas dos respetivos genes). Na primeira linha (de anotação) vamos escrever:\n",
    "- Os nomes dos genes\n",
    "- O início da sequência relativamente ao genoma\n",
    "- O fim da sequência relativamente ao genoma\n",
    "- A cadeia onde se encontra no genoma\n",
    "- Os identificadores das respetivas proteínas"
   ]
  },
  {
   "cell_type": "code",
   "execution_count": 2,
   "id": "34f82588",
   "metadata": {
    "scrolled": true
   },
   "outputs": [
    {
     "name": "stdout",
     "output_type": "stream",
     "text": [
      "Gene: pbpX\n",
      "Início: 302260\n",
      "Fim: 304513\n",
      "Cadeia: 1\n",
      "Sequência DNA: ATGAAGTGGACAAAAAGAGTAATCCGTTATGCGACCAAAAATCGGAAATCGCCGGCTGAAAACAGACGCAGAGTT...\n",
      "ID Proteína: AAK99108.1\n",
      "Sequência Proteica: MKWTKRVIRYATKNRKSPAENRRRVGKSLSLLSVFVFAIFLVNFAVIIGTGTRFGTDLAKEAKKVHQTTRTVPAK...\n",
      "----------\n",
      "Gene: pbpA\n",
      "Início: 332862\n",
      "Fim: 335022\n",
      "Cadeia: -1\n",
      "Sequência DNA: ATGAACAAACCAACGATTCTGCGCCTAATCAAGTATCTGAGCATTAGCTTCTTAAGCTTGGTTATCGCAGCCATT...\n",
      "ID Proteína: AAK99133.1\n",
      "Sequência Proteica: MNKPTILRLIKYLSISFLSLVIAAIVLGGGVFFYYVSKAPSLSESKLVATTSSKIYDNKNQLIADLGSERRVNAQ...\n",
      "----------\n",
      "Gene: pbp2b\n",
      "Início: 1494215\n",
      "Fim: 1496273\n",
      "Cadeia: -1\n",
      "Sequência DNA: ATGAGACTGATTTGTATGAGAAAATTTAACAGCCATTCGATTCCGATTCGGCTTAATTTATTGTTTTCAATCGTC...\n",
      "ID Proteína: AAL00321.1\n",
      "Sequência Proteica: MRLICMRKFNSHSIPIRLNLLFSIVILLFMTIIGRLLYMQVLNKDFYEKKLASASQTKITSSSARGEIYDASGKP...\n",
      "----------\n"
     ]
    }
   ],
   "source": [
    "from Bio import SeqIO\n",
    "\n",
    "genes_int = [\"pbpX\",\"pbpA\",\"pbp2b\"]\n",
    "#local\n",
    "#gene_seq\n",
    "#prot_id\n",
    "#prot\n",
    "\n",
    "\n",
    "for g in genes_int:\n",
    "    ####################\n",
    "    print(\"Gene:\",g)\n",
    "    print(\"Início:\",local[g][0])\n",
    "    print(\"Fim:\",local[g][1])\n",
    "    print(\"Cadeia:\",local[g][2])\n",
    "    print(\"Sequência DNA:\",gene_seq[g][0:75]+\"...\")\n",
    "    print(\"ID Proteína:\",prot_id[g][0])\n",
    "    print(\"Sequência Proteica:\",prot[g][0][0:75]+\"...\")\n",
    "    print(\"----------\")\n",
    "    ####################\n",
    "    inicio, fim, strand = local[g]\n",
    "    annot = \";\".join([g,str(inicio),str(fim),str(strand),prot_id[g][0]])\n",
    "    \n",
    "    file = open(g+\".fasta\",\"w\")\n",
    "    file.write(\">\"+annot+\"\\n\"+str(gene_seq[g]))\n",
    "    file.close()\n",
    "    \n",
    "    file = open(g+\"_\"+prot_id[g][0]+\".fasta\",\"w\")\n",
    "    file.write(\">\"+annot+\"\\n\"+prot[g][0])\n",
    "    file.close()\n",
    "\n"
   ]
  },
  {
   "cell_type": "markdown",
   "id": "172e16f3",
   "metadata": {},
   "source": [
    "Tendo obtido as sequências genéticas e respetivas sequências proteicas dos genes em estudo, estamos em condições de utilizálos para, nomeadamente:\n",
    "- Procurar sequências homólogas (com o algorítmo **BLAST**)\n",
    "- Extrair alguma informação sobre cada proteína da base de dados **UniProt**"
   ]
  },
  {
   "cell_type": "markdown",
   "id": "d87b9d0f",
   "metadata": {},
   "source": [
    "# *pbp1a*"
   ]
  },
  {
   "cell_type": "markdown",
   "id": "e9061c74",
   "metadata": {},
   "source": [
    "### BLAST"
   ]
  },
  {
   "cell_type": "markdown",
   "id": "579328f9",
   "metadata": {},
   "source": [
    "Vamos correr um BLAST contra a sequência do gene pbp1a para encontrar sequências homólogas"
   ]
  },
  {
   "cell_type": "code",
   "execution_count": 3,
   "id": "35b07330",
   "metadata": {},
   "outputs": [],
   "source": [
    "from Bio import SeqIO\n",
    "from Bio.Blast import NCBIWWW\n",
    "\n",
    "\n",
    "\n",
    "files = [(\"pbpA\",\"blastn\"),(\"pbpA_AAK99133.1\",\"blastp\")]\n",
    "\n",
    "for f,d in files:\n",
    "    record = SeqIO.read(open(f\"{f}.fasta\"), format=\"fasta\")\n",
    "    result_handle = NCBIWWW.qblast(d, \"nr\", record.format(\"fasta\"), expect=0.05, hitlist_size=100)\n",
    "\n",
    "    save_file = open(f\"{f}_blast.xml\", \"w\")\n",
    "    save_file.write(result_handle.read())\n",
    "\n",
    "    save_file.close()\n",
    "    result_handle.close()"
   ]
  },
  {
   "cell_type": "code",
   "execution_count": null,
   "id": "7f27aee6",
   "metadata": {},
   "outputs": [],
   "source": [
    "#pode-se alterar mais parâmetros:\n",
    "from Bio.Blast import NCBIWWW\n",
    "help(NCBIWWW.qblast)"
   ]
  },
  {
   "cell_type": "markdown",
   "id": "ba79adec",
   "metadata": {},
   "source": [
    "Já temos os resultados do BLAST para a sequência nucleotídica e proteica. Vamos agora efetuar os alinhamentos entre a sequência query (pbp1a) com as sequências homólogas de forma percetível e guardá-las em ficheiros (\"pbpA_aligns.xml\" para a sequência do gene, e \"pbpA_AAK99133.1_aligns.xml\" para a sequência da proteína)"
   ]
  },
  {
   "cell_type": "code",
   "execution_count": 1,
   "id": "33a9a39a",
   "metadata": {},
   "outputs": [],
   "source": [
    "from Bio.Blast import NCBIXML\n",
    "import re\n",
    "\n",
    "files = [(\"pbpA\",{}),(\"pbpA_AAK99133.1\",{})]\n",
    "\n",
    "for f in files:\n",
    "    output1 = open(f\"{f[0]}_aligns.xml\", \"w\")\n",
    "\n",
    "    result_handle = open(f\"{f[0]}_blast.xml\")\n",
    "\n",
    "    blast_records = NCBIXML.parse(result_handle)\n",
    "\n",
    "    for record in blast_records:\n",
    "\n",
    "        first = \">QUERY\\n\"+record.alignments[0].hsps[0].query+\"\\n\\n\"\n",
    "        f[1][\"query\"] = first\n",
    "        \n",
    "        for align in record.alignments:\n",
    "\n",
    "            for hsp in align.hsps:\n",
    "\n",
    "                match = re.sub(r\"\\w\", \"|\", hsp.match)\n",
    "                ###################\n",
    "                #print ('****Alignment****')\n",
    "                #print ('sequence:', align.title)\n",
    "                #print ('ID:', align.hit_id)\n",
    "                #print ('length:', align.length)\n",
    "                #print ('e value:', hsp.expect)\n",
    "                #print (hsp.query[0:30] + '...' + hsp.query[-30:] )\n",
    "                #print( match[0:30] + '...' + match[-30:] )\n",
    "                #print( hsp.sbjct[0:30] + '...' + hsp.sbjct[-30:] )\n",
    "                #print(\"\\n\\n\\n\")\n",
    "                ###################\n",
    "                output1.write('****Alignment****\\n')\n",
    "                output1.write('sequence: '+ align.title+\"\\n\")\n",
    "                output1.write('ID: '+ align.hit_id+\"\\n\")\n",
    "                output1.write('length: '+ str(align.length)+\"\\n\")\n",
    "                output1.write('e value: '+ str(hsp.expect)+\"\\n\")\n",
    "\n",
    "                try:\n",
    "                    try:\n",
    "                        write = re.search(r\"(gb|emb|sp|dbj)\\|.+?\\|\", align.title).group()\n",
    "                    except:\n",
    "                        write = re.findall(r\"\\s.+?,\", align.title)[0][1:-1].strip()\n",
    "                        \n",
    "                    f[1][write] = \">\"+write+\"\\n\"+hsp.sbjct+\"\\n\\n\"\n",
    "                    \n",
    "                except:\n",
    "                    try:\n",
    "                        write = re.search(r\"(gb|emb|sp|dbj)\\|.+?\\|\", align.title).group()\n",
    "                    except:\n",
    "                        write = re.findall(r\"\\s.+\", align.title)[0][1:].strip()\n",
    "                        \n",
    "                    f[1][write] = \">\"+write+\"\\n\"+hsp.sbjct+\"\\n\\n\"\n",
    "\n",
    "                st = 0\n",
    "                for l in range(int(len(hsp.query)/100)+1):\n",
    "                    position = st+100 if st+100<=len(hsp.query) else len(hsp.query)\n",
    "                    output1.write(hsp.query[st:st+100]+f\" {position}\"+\"\\n\")\n",
    "                    output1.write(match[st:st+100]+\"\\n\")\n",
    "                    output1.write(hsp.sbjct[st:st+100]+\"\\n\")\n",
    "                    st += 100\n",
    "                output1.write(\"\\n\\n\")\n",
    "\n",
    "    output1.close()\n",
    "    result_handle.close()\n",
    "\n",
    "for f in files:\n",
    "    output2 = open(f\"{f[0]}_homo.fasta\", \"w\")\n",
    "    order = list(f[1])\n",
    "    order.sort()\n",
    "    for o in order:\n",
    "        if o == order[-1]:\n",
    "            output2.write(re.sub(r\"\\ \", \"_\", f[1][o].strip()))\n",
    "        else:\n",
    "            output2.write(re.sub(r\"\\ \", \"_\", f[1][o]))\n",
    "    output2.close()\n",
    "    \n",
    "\n",
    "#Ás vezes tem espaço, às vezes tem \"+\", PORQUÊ????"
   ]
  },
  {
   "cell_type": "markdown",
   "id": "37cc9d54",
   "metadata": {},
   "source": [
    "O \"output1\" gera os ficheiros com os alinhamentos (1 com a sequência de DNA, outro com a sequência da proteína). O \"output2\" gera 2 ficheiros (na mesma lógica do que o \"output1\") apenas com as sequências homólogas encontradas em formato multi-FASTA."
   ]
  },
  {
   "cell_type": "markdown",
   "id": "af3101d5",
   "metadata": {},
   "source": [
    "De seguida, vamos voltar a focarmo-nos nas proteínas em estudo. Para obter informações sobre estas proteínas, podemos recorrer ao site da **UniProt**.<br>\n",
    "\n",
    "### UniProt\n",
    "\n",
    "Primeiro precisamos de transferir o ficheiro correspondente à proteína de interesse em formato txt (fez-se manualmente). De seguida, já estamos em condições de processar esse ficheiro:"
   ]
  },
  {
   "cell_type": "code",
   "execution_count": 8,
   "id": "d6b392e7",
   "metadata": {
    "scrolled": false
   },
   "outputs": [
    {
     "name": "stdout",
     "output_type": "stream",
     "text": [
      "Nome: PBPA_STRR6 \n",
      "\n",
      "ID UniProt: Q8DR59\n",
      "\n",
      "RecName: Full=Penicillin-binding protein 1A\n",
      " Short=PBP-1A\n",
      " AltName: Full=Exported protein 2\n",
      " Includes: RecName: Full=Penicillin-insensitive transglycosylase\n",
      " EC=2.4.1.129 {ECO:0000250|UniProtKB:P02918}\n",
      " AltName: Full=Peptidoglycan TGase\n",
      " Includes: RecName: Full=Penicillin-sensitive transpeptidase\n",
      " EC=3.4.16.4 {ECO:0000250|UniProtKB:P02918}\n",
      " AltName: Full=DD-transpeptidase\n",
      "\n",
      "Organismo: 'Streptococcus pneumoniae (strain ATCC BAA-255 / R6).' \n",
      "\n",
      "Classificao do organismo: ['Bacteria', 'Firmicutes', 'Bacilli', 'Lactobacillales', 'Streptococcaceae', 'Streptococcus'] \n",
      "\n",
      "MNKPTILRLIKYLSISFLSL... \n",
      "\n",
      "Tamanho da seq: 719 \n",
      "\n",
      "Palavras Chave: ['3D-structure', 'Antibiotic resistance', 'Carboxypeptidase', 'Cell shape', 'Cell wall biogenesis/degradation', 'Glycosyltransferase', 'Hydrolase', 'Multifunctional enzyme', 'Peptidoglycan synthesis', 'Protease', 'Reference proteome', 'Secreted', 'Transferase'] \n",
      "\n",
      "Sítio ativo 1: [90:91]\n",
      "Sítio ativo 2: [369:370]\n"
     ]
    }
   ],
   "source": [
    "from Bio import ExPASy\n",
    "import Bio.SwissProt as sp\n",
    "\n",
    "with open(\"swissprot_pbp1a.txt\") as handle:\n",
    "    record = sp.read(handle)\n",
    "    print(\"Nome:\", record.entry_name,\"\\n\")\n",
    "    for acc in record.accessions:\n",
    "        print(\"ID UniProt:\", acc)\n",
    "    print()\n",
    "    for des in record.description.split(\";\"):\n",
    "        print(des)\n",
    "    print(\"Organismo:\",repr(record.organism),\"\\n\")\n",
    "    print(\"Classificao do organismo:\",record.organism_classification,\"\\n\")\n",
    "    print(record.sequence[:20] + \"...\",\"\\n\")\n",
    "    print(\"Tamanho da seq:\", record.sequence_length,\"\\n\")\n",
    "    print(\"Palavras Chave:\",record.keywords,\"\\n\")\n",
    "    \n",
    "counter = 1\n",
    "for r in record.features:\n",
    "    if r.type == \"ACT_SITE\":\n",
    "        print(f\"Sítio ativo {counter}:\",r.location)\n",
    "        counter += 1"
   ]
  },
  {
   "cell_type": "markdown",
   "id": "bfdd7225",
   "metadata": {},
   "source": [
    "As informações relativamente aos nomes, identificadores e sequência da proteína, mais as informações acerca da espécie e estirpe ao qual pertence a proteína, já tinhamos extraído do NCBI.\n",
    "Para além destas, o PDB permite extrair informação acerca dos sítios ativos de cada proteína. Neste caso, vemos que tem 2 sítios ativos, indicando a sua localização no gene.<br>\n",
    "Sabemos pela literatura que o primeiro sítio ativo [90:91] é o da **transglicosilase**, e o segundo [369:370] é o da **transpeptidase**."
   ]
  },
  {
   "cell_type": "markdown",
   "id": "9829a4c2",
   "metadata": {},
   "source": [
    "# *pbp2b*"
   ]
  },
  {
   "cell_type": "markdown",
   "id": "44a769af",
   "metadata": {},
   "source": [
    "### BLAST"
   ]
  },
  {
   "cell_type": "markdown",
   "id": "45529a1b",
   "metadata": {},
   "source": [
    "Vamos correr um BLAST contra a sequência do gene pbp2b para encontrar sequências homólogas"
   ]
  },
  {
   "cell_type": "code",
   "execution_count": 5,
   "id": "37b5cc79",
   "metadata": {},
   "outputs": [],
   "source": [
    "from Bio import SeqIO\n",
    "from Bio.Blast import NCBIWWW\n",
    "\n",
    "\n",
    "\n",
    "files = [(\"pbp2b\",\"blastn\"),(\"pbp2b_AAL00321.1\",\"blastp\")]\n",
    "\n",
    "for f,d in files:\n",
    "    record = SeqIO.read(open(f\"{f}.fasta\"), format=\"fasta\")\n",
    "    result_handle = NCBIWWW.qblast(d, \"nr\", record.format(\"fasta\"), expect=0.05, hitlist_size=100)\n",
    "\n",
    "    save_file = open(f\"{f}_blast.xml\", \"w\")\n",
    "    save_file.write(result_handle.read())\n",
    "\n",
    "    save_file.close()\n",
    "    result_handle.close()"
   ]
  },
  {
   "cell_type": "markdown",
   "id": "a1e2d5b8",
   "metadata": {},
   "source": [
    "Com os resultados do BLAST, vamos agora efetuar os alinhamentos entre a sequência query (pbp2b) com as sequências homólogas de forma percetível e guardá-las em ficheiros (\"pb2b_aligns.xml\" para a sequência do gene, e \"pbp2b_AAL00321.1_aligns.xml\" para a sequência da proteína)"
   ]
  },
  {
   "cell_type": "code",
   "execution_count": 2,
   "id": "cbd0b2b1",
   "metadata": {},
   "outputs": [],
   "source": [
    "from Bio.Blast import NCBIXML\n",
    "import re\n",
    "\n",
    "files = [(\"pbp2b\",{}),(\"pbp2b_AAL00321.1\",{})]\n",
    "\n",
    "for f in files:\n",
    "    output1 = open(f\"{f[0]}_aligns.xml\", \"w\")\n",
    "\n",
    "    result_handle = open(f\"{f[0]}_blast.xml\")\n",
    "\n",
    "    blast_records = NCBIXML.parse(result_handle)\n",
    "\n",
    "    for record in blast_records:\n",
    "\n",
    "        first = \">QUERY\\n\"+record.alignments[0].hsps[0].query+\"\\n\\n\"\n",
    "        f[1][\"query\"] = first\n",
    "        \n",
    "        for align in record.alignments:\n",
    "\n",
    "            for hsp in align.hsps:\n",
    "\n",
    "                match = re.sub(r\"\\w\", \"|\", hsp.match)\n",
    "                ###################\n",
    "                #print ('****Alignment****')\n",
    "                #print ('sequence:', align.title)\n",
    "                #print ('ID:', align.hit_id)\n",
    "                #print ('length:', align.length)\n",
    "                #print ('e value:', hsp.expect)\n",
    "                #print (hsp.query[0:30] + '...' + hsp.query[-30:] )\n",
    "                #print( match[0:30] + '...' + match[-30:] )\n",
    "                #print( hsp.sbjct[0:30] + '...' + hsp.sbjct[-30:] )\n",
    "                #print(\"\\n\\n\\n\")\n",
    "                ###################\n",
    "                output1.write('****Alignment****\\n')\n",
    "                output1.write('sequence: '+ align.title+\"\\n\")\n",
    "                output1.write('ID: '+ align.hit_id+\"\\n\")\n",
    "                output1.write('length: '+ str(align.length)+\"\\n\")\n",
    "                output1.write('e value: '+ str(hsp.expect)+\"\\n\")\n",
    "\n",
    "                try:\n",
    "                    try:\n",
    "                        write = re.search(r\"(gb|emb|sp|dbj)\\|.+?\\|\", align.title).group()\n",
    "                    except:\n",
    "                        write = re.findall(r\"\\s.+?,\", align.title)[0][1:-1].strip()\n",
    "                        \n",
    "                    f[1][write] = \">\"+write+\"\\n\"+hsp.sbjct+\"\\n\\n\"\n",
    "                    \n",
    "                except:\n",
    "                    try:\n",
    "                        write = re.search(r\"(gb|emb|sp|dbj)\\|.+?\\|\", align.title).group()\n",
    "                    except:\n",
    "                        write = re.findall(r\"\\s.+\", align.title)[0][1:].strip()\n",
    "                        \n",
    "                    f[1][write] = \">\"+write+\"\\n\"+hsp.sbjct+\"\\n\\n\"\n",
    "\n",
    "                st = 0\n",
    "                for l in range(int(len(hsp.query)/100)+1):\n",
    "                    position = st+100 if st+100<=len(hsp.query) else len(hsp.query)\n",
    "                    output1.write(hsp.query[st:st+100]+f\" {position}\"+\"\\n\")\n",
    "                    output1.write(match[st:st+100]+\"\\n\")\n",
    "                    output1.write(hsp.sbjct[st:st+100]+\"\\n\")\n",
    "                    st += 100\n",
    "                output1.write(\"\\n\\n\")\n",
    "\n",
    "    output1.close()\n",
    "    result_handle.close()\n",
    "\n",
    "for f in files:\n",
    "    output2 = open(f\"{f[0]}_homo.fasta\", \"w\")\n",
    "    order = list(f[1])\n",
    "    order.sort()\n",
    "    for o in order:\n",
    "        if o == order[-1]:\n",
    "            output2.write(re.sub(r\"\\ \", \"_\", f[1][o].strip()))\n",
    "        else:\n",
    "            output2.write(re.sub(r\"\\ \", \"_\", f[1][o]))\n",
    "    output2.close()"
   ]
  },
  {
   "cell_type": "markdown",
   "id": "87f7ff79",
   "metadata": {},
   "source": [
    "O \"output1\" gera os ficheiros com os alinhamentos (1 com a sequência de DNA, outro com a sequência da proteína). O \"output2\" gera 2 ficheiros (na mesma lógica do que o \"output1\") apenas com as sequências homólogas encontradas em formato multi-FASTA."
   ]
  },
  {
   "cell_type": "markdown",
   "id": "2bb1aba0",
   "metadata": {},
   "source": [
    "### UniProt\n",
    "\n",
    "Após ter transferido o ficheiro correspondente à proteína de interesse em formato txt, podemos processar esse ficheiro:"
   ]
  },
  {
   "cell_type": "code",
   "execution_count": 7,
   "id": "60ddc368",
   "metadata": {},
   "outputs": [
    {
     "name": "stdout",
     "output_type": "stream",
     "text": [
      "Nome: PBP2_STRR6 \n",
      "\n",
      "ID UniProt: P0A3M6\n",
      "ID UniProt: P10524\n",
      "\n",
      "RecName: Full=Penicillin-binding protein 2B\n",
      "\n",
      "Organismo: 'Streptococcus pneumoniae (strain ATCC BAA-255 / R6).' \n",
      "\n",
      "Classificao do organismo: ['Bacteria', 'Firmicutes', 'Bacilli', 'Lactobacillales', 'Streptococcaceae', 'Streptococcus'] \n",
      "\n",
      "MRKFNSHSIPIRLNLLFSIV... \n",
      "\n",
      "Tamanho da seq: 680 \n",
      "\n",
      "Palavras Chave: ['3D-structure', 'Antibiotic resistance', 'Cell membrane', 'Cell shape', 'Cell wall biogenesis/degradation', 'Membrane', 'Peptidoglycan synthesis', 'Reference proteome', 'Transmembrane', 'Transmembrane helix'] \n",
      "\n",
      "Sítio ativo 1: [385:386]\n"
     ]
    }
   ],
   "source": [
    "from Bio import ExPASy\n",
    "import Bio.SwissProt as sp\n",
    "\n",
    "with open(\"swissprot_pbp2b.txt\") as handle:\n",
    "    record = sp.read(handle)\n",
    "    print(\"Nome:\", record.entry_name,\"\\n\")\n",
    "    for acc in record.accessions:\n",
    "        print(\"ID UniProt:\", acc)\n",
    "    print()\n",
    "    for des in record.description.split(\";\"):\n",
    "        print(des)\n",
    "    print(\"Organismo:\",repr(record.organism),\"\\n\")\n",
    "    print(\"Classificao do organismo:\",record.organism_classification,\"\\n\")\n",
    "    print(record.sequence[:20] + \"...\",\"\\n\")\n",
    "    print(\"Tamanho da seq:\", record.sequence_length,\"\\n\")\n",
    "    print(\"Palavras Chave:\",record.keywords,\"\\n\")\n",
    "    \n",
    "    \n",
    "counter = 1\n",
    "for r in record.features:\n",
    "    if r.type == \"ACT_SITE\":\n",
    "        print(f\"Sítio ativo {counter}:\",r.location)\n",
    "        counter += 1"
   ]
  },
  {
   "cell_type": "markdown",
   "id": "df871e3b",
   "metadata": {},
   "source": [
    "A UniProt aponta para 1 sítio ativo, indicando a sua localização no gene na posição [385:386], que, pela literatura, sabemos que é da sua atividade de **transpeptidase**."
   ]
  },
  {
   "cell_type": "markdown",
   "id": "d33a4977",
   "metadata": {},
   "source": [
    "# *pbp2x*"
   ]
  },
  {
   "cell_type": "markdown",
   "id": "18cb883c",
   "metadata": {},
   "source": [
    "Vamos correr um BLAST contra a sequência do gene pbp2x para encontrar sequências homólogas"
   ]
  },
  {
   "cell_type": "code",
   "execution_count": null,
   "id": "724317aa",
   "metadata": {},
   "outputs": [],
   "source": [
    "from Bio import SeqIO\n",
    "from Bio.Blast import NCBIWWW\n",
    "\n",
    "\n",
    "\n",
    "files = [(\"pbpX\",\"blastn\"),(\"pbpX_AAK99108.1\",\"blastp\")]\n",
    "\n",
    "for f,d in files:\n",
    "    record = SeqIO.read(open(f\"{f}.fasta\"), format=\"fasta\")\n",
    "    result_handle = NCBIWWW.qblast(d, \"nr\", record.format(\"fasta\"), expect=0.05, hitlist_size=100)\n",
    "\n",
    "    save_file = open(f\"{f}_blast.xml\", \"w\")\n",
    "    save_file.write(result_handle.read())\n",
    "\n",
    "    save_file.close()\n",
    "    result_handle.close()"
   ]
  },
  {
   "cell_type": "markdown",
   "id": "b59f1add",
   "metadata": {},
   "source": [
    "Com os resultados do BLAST, vamos agora efetuar os alinhamentos entre a sequência query (pbp2b) com as sequências homólogas de forma percetível e guardá-las em ficheiros (\"pb2x_aligns.xml\" para a sequência do gene, e \"pbp2x_AAK99108.1_aligns.xml\" para a sequência da proteína)"
   ]
  },
  {
   "cell_type": "code",
   "execution_count": 3,
   "id": "56973b5a",
   "metadata": {},
   "outputs": [],
   "source": [
    "from Bio.Blast import NCBIXML\n",
    "import re\n",
    "\n",
    "files = [(\"pbpX\",{}),(\"pbpX_AAK99108.1\",{})]\n",
    "\n",
    "for f in files:\n",
    "    output1 = open(f\"{f[0]}_aligns.xml\", \"w\")\n",
    "\n",
    "    result_handle = open(f\"{f[0]}_blast.xml\")\n",
    "\n",
    "    blast_records = NCBIXML.parse(result_handle)\n",
    "\n",
    "    for record in blast_records:\n",
    "\n",
    "        first = \">QUERY\\n\"+record.alignments[0].hsps[0].query+\"\\n\\n\"\n",
    "        f[1][\"query\"] = first\n",
    "        \n",
    "        for align in record.alignments:\n",
    "\n",
    "            for hsp in align.hsps:\n",
    "\n",
    "                match = re.sub(r\"\\w\", \"|\", hsp.match)\n",
    "                ###################\n",
    "                #print ('****Alignment****')\n",
    "                #print ('sequence:', align.title)\n",
    "                #print ('ID:', align.hit_id)\n",
    "                #print ('length:', align.length)\n",
    "                #print ('e value:', hsp.expect)\n",
    "                #print (hsp.query[0:30] + '...' + hsp.query[-30:] )\n",
    "                #print( match[0:30] + '...' + match[-30:] )\n",
    "                #print( hsp.sbjct[0:30] + '...' + hsp.sbjct[-30:] )\n",
    "                #print(\"\\n\\n\\n\")\n",
    "                ###################\n",
    "                output1.write('****Alignment****\\n')\n",
    "                output1.write('sequence: '+ align.title+\"\\n\")\n",
    "                output1.write('ID: '+ align.hit_id+\"\\n\")\n",
    "                output1.write('length: '+ str(align.length)+\"\\n\")\n",
    "                output1.write('e value: '+ str(hsp.expect)+\"\\n\")\n",
    "\n",
    "                try:\n",
    "                    try:\n",
    "                        write = re.search(r\"(gb|emb|sp|dbj)\\|.+?\\|\", align.title).group()\n",
    "                    except:\n",
    "                        write = re.findall(r\"\\s.+?,\", align.title)[0][1:-1].strip()\n",
    "                        \n",
    "                    f[1][write] = \">\"+write+\"\\n\"+hsp.sbjct+\"\\n\\n\"\n",
    "                    \n",
    "                except:\n",
    "                    try:\n",
    "                        write = re.search(r\"(gb|emb|sp|dbj)\\|.+?\\|\", align.title).group()\n",
    "                    except:\n",
    "                        write = re.findall(r\"\\s.+\", align.title)[0][1:].strip()\n",
    "                        \n",
    "                    f[1][write] = \">\"+write+\"\\n\"+hsp.sbjct+\"\\n\\n\"\n",
    "\n",
    "                st = 0\n",
    "                for l in range(int(len(hsp.query)/100)+1):\n",
    "                    position = st+100 if st+100<=len(hsp.query) else len(hsp.query)\n",
    "                    output1.write(hsp.query[st:st+100]+f\" {position}\"+\"\\n\")\n",
    "                    output1.write(match[st:st+100]+\"\\n\")\n",
    "                    output1.write(hsp.sbjct[st:st+100]+\"\\n\")\n",
    "                    st += 100\n",
    "                output1.write(\"\\n\\n\")\n",
    "\n",
    "    output1.close()\n",
    "    result_handle.close()\n",
    "\n",
    "for f in files:\n",
    "    output2 = open(f\"{f[0]}_homo.fasta\", \"w\")\n",
    "    order = list(f[1])\n",
    "    order.sort()\n",
    "    for o in order:\n",
    "        if o == order[-1]:\n",
    "            output2.write(re.sub(r\"\\ \", \"_\", f[1][o].strip()))\n",
    "        else:\n",
    "            output2.write(re.sub(r\"\\ \", \"_\", f[1][o]))\n",
    "    output2.close()"
   ]
  },
  {
   "cell_type": "markdown",
   "id": "0811eb33",
   "metadata": {},
   "source": [
    "O \"output1\" gera os ficheiros com os alinhamentos (1 com a sequência de DNA, outro com a sequência da proteína). O \"output2\" gera 2 ficheiros (na mesma lógica do que o \"output1\") apenas com as sequências homólogas encontradas em formato multi-FASTA."
   ]
  },
  {
   "cell_type": "markdown",
   "id": "b717157d",
   "metadata": {},
   "source": [
    "### UniProt\n",
    "\n",
    "Após ter transferido o ficheiro correspondente à proteína de interesse em formato txt, podemos processar esse ficheiro:"
   ]
  },
  {
   "cell_type": "code",
   "execution_count": 41,
   "id": "688ab161",
   "metadata": {},
   "outputs": [
    {
     "name": "stdout",
     "output_type": "stream",
     "text": [
      "Nome: PBPX_STRR6 \n",
      "\n",
      "ID UniProt: P59676\n",
      "\n",
      "RecName: Full=Penicillin-binding protein 2X\n",
      " Short=PBP-2X\n",
      " Short=PBP2X\n",
      "\n",
      "Organismo: 'Streptococcus pneumoniae (strain ATCC BAA-255 / R6).' \n",
      "\n",
      "Classificao do organismo: ['Bacteria', 'Firmicutes', 'Bacilli', 'Lactobacillales', 'Streptococcaceae', 'Streptococcus'] \n",
      "\n",
      "MKWTKRVIRYATKNRKSPAE... \n",
      "\n",
      "Tamanho da seq: 750 \n",
      "\n",
      "Palavras Chave: ['3D-structure', 'Antibiotic resistance', 'Cell cycle', 'Cell division', 'Cell membrane', 'Cell shape', 'Cell wall biogenesis/degradation', 'Membrane', 'Peptidoglycan synthesis', 'Reference proteome', 'Repeat', 'Transmembrane', 'Transmembrane helix'] \n",
      "\n",
      "Sítio ativo 1: [336:337]\n"
     ]
    }
   ],
   "source": [
    "from Bio import ExPASy\n",
    "import Bio.SwissProt as sp\n",
    "\n",
    "with open(\"swissprot_pbp2x.txt\") as handle:\n",
    "    record = sp.read(handle)\n",
    "    print(\"Nome:\", record.entry_name,\"\\n\")\n",
    "    for acc in record.accessions:\n",
    "        print(\"ID UniProt:\", acc)\n",
    "    print()\n",
    "    for des in record.description.split(\";\"):\n",
    "        print(des)\n",
    "    print(\"Organismo:\",repr(record.organism),\"\\n\")\n",
    "    print(\"Classificao do organismo:\",record.organism_classification,\"\\n\")\n",
    "    print(record.sequence[:20] + \"...\",\"\\n\")\n",
    "    print(\"Tamanho da seq:\", record.sequence_length,\"\\n\")\n",
    "    print(\"Palavras Chave:\",record.keywords,\"\\n\")\n",
    "    \n",
    "counter = 1\n",
    "for r in record.features:\n",
    "    if r.type == \"ACT_SITE\":\n",
    "        print(f\"Sítio ativo {counter}:\",r.location)\n",
    "        counter += 1"
   ]
  },
  {
   "cell_type": "markdown",
   "id": "102ca935",
   "metadata": {},
   "source": [
    "A UniProt aponta para 1 sítio ativo, indicando a sua localização no gene na posição [336:337], que, pela literatura, sabemos que é da sua atividade de **transpeptidase**."
   ]
  }
 ],
 "metadata": {
  "kernelspec": {
   "display_name": "Python 3",
   "language": "python",
   "name": "python3"
  },
  "language_info": {
   "codemirror_mode": {
    "name": "ipython",
    "version": 3
   },
   "file_extension": ".py",
   "mimetype": "text/x-python",
   "name": "python",
   "nbconvert_exporter": "python",
   "pygments_lexer": "ipython3",
   "version": "3.8.8"
  }
 },
 "nbformat": 4,
 "nbformat_minor": 5
}
